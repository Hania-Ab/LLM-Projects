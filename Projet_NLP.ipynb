{
  "cells": [
    {
      "cell_type": "code",
      "execution_count": 4,
      "metadata": {
        "colab": {
          "base_uri": "https://localhost:8080/"
        },
        "id": "IwyImND_zK9U",
        "outputId": "d0f8d99b-cb28-4bba-b85f-9372839b971a"
      },
      "outputs": [
        {
          "name": "stdout",
          "output_type": "stream",
          "text": [
            "Collecting jiwer\n",
            "  Downloading jiwer-3.0.3-py3-none-any.whl (21 kB)\n",
            "Requirement already satisfied: click<9.0.0,>=8.1.3 in /usr/local/lib/python3.10/dist-packages (from jiwer) (8.1.7)\n",
            "Collecting rapidfuzz<4,>=3 (from jiwer)\n",
            "  Downloading rapidfuzz-3.6.1-cp310-cp310-manylinux_2_17_x86_64.manylinux2014_x86_64.whl (3.4 MB)\n",
            "\u001b[2K     \u001b[90m━━━━━━━━━━━━━━━━━━━━━━━━━━━━━━━━━━━━━━━━\u001b[0m \u001b[32m3.4/3.4 MB\u001b[0m \u001b[31m14.2 MB/s\u001b[0m eta \u001b[36m0:00:00\u001b[0m\n",
            "\u001b[?25hInstalling collected packages: rapidfuzz, jiwer\n",
            "Successfully installed jiwer-3.0.3 rapidfuzz-3.6.1\n"
          ]
        }
      ],
      "source": [
        "!pip install jiwer"
      ]
    },
    {
      "cell_type": "code",
      "execution_count": 8,
      "metadata": {
        "id": "DA4raOoyzO_L"
      },
      "outputs": [],
      "source": [
        "from jiwer import wer, cer\n",
        "import pandas as pd\n",
        "import jiwer\n",
        "\n",
        "\n",
        "\n",
        "data = pd.read_csv(\"projetNLP_test_data.csv\")\n",
        "\n",
        "def compute_cer_wer(data):\n",
        "  list_wer = []\n",
        "  list_cer = []\n",
        "\n",
        "  for i in data.index:\n",
        "\n",
        "    cer_value = cer(\n",
        "        data['corrected_text'][i],\n",
        "        data['noisy_text'][i]\n",
        "    )\n",
        "    list_cer.append(cer_value)\n",
        "\n",
        "    wer_value = wer(\n",
        "        data['corrected_text'][i],\n",
        "        data['noisy_text'][i]\n",
        "    )\n",
        "    list_wer.append(wer_value)\n",
        "\n",
        "    return list_cer, list_wer\n",
        "\n",
        "data.insert(3, \"CER\", list_cer, True)\n",
        "data.insert(4, \"WER\", list_wer, True)"
      ]
    },
    {
      "cell_type": "code",
      "execution_count": 44,
      "metadata": {
        "colab": {
          "base_uri": "https://localhost:8080/"
        },
        "id": "Ia0mKq971FKm",
        "outputId": "943b24a5-ba70-4f69-81c2-9accbafdf288"
      },
      "outputs": [
        {
          "name": "stdout",
          "output_type": "stream",
          "text": [
            "Mean CER :  0.08527788153372473\n",
            "Mean WER :  0.20566592093027547\n"
          ]
        }
      ],
      "source": [
        "import numpy as np\n",
        "\n",
        "mean_cer = np.mean(list_cer)\n",
        "mean_wer = np.mean(list_wer)\n",
        "\n",
        "print(\"Mean CER : \", mean_cer)\n",
        "print(\"Mean WER : \", mean_wer)"
      ]
    },
    {
      "cell_type": "code",
      "execution_count": 45,
      "metadata": {
        "id": "ObDvfiKY7G9t"
      },
      "outputs": [],
      "source": [
        "import language_tool_python\n",
        "tool = language_tool_python.LanguageTool('fr-FR')"
      ]
    },
    {
      "cell_type": "code",
      "execution_count": 46,
      "metadata": {
        "id": "eL-Nk-8z59Bq"
      },
      "outputs": [],
      "source": [
        "corrected_texts = []\n",
        "list_wer = []\n",
        "list_cer = []\n",
        "for i in data.index:\n",
        "  corrected_texts.append(tool.correct(data['noisy_text'][i]))\n",
        "  cer_value = cer(\n",
        "      data['corrected_text'][i],\n",
        "      corrected_texts[i]\n",
        "  )\n",
        "  list_cer.append(cer_value)\n",
        "\n",
        "  wer_value = wer(\n",
        "      data['corrected_text'][i],\n",
        "      corrected_texts[i]\n",
        "  )\n",
        "  list_wer.append(wer_value)"
      ]
    },
    {
      "cell_type": "code",
      "execution_count": 47,
      "metadata": {
        "id": "YFC-gKeN8Qhg"
      },
      "outputs": [],
      "source": [
        "data.insert(3, \"CER\", list_cer, True)\n",
        "data.insert(4, \"WER\", list_wer, True)\n",
        "data.insert(5, \"LLM Corrected Text\", corrected_texts, True)"
      ]
    },
    {
      "cell_type": "code",
      "execution_count": 48,
      "metadata": {
        "colab": {
          "base_uri": "https://localhost:8080/",
          "height": 62412
        },
        "id": "yo_zlAFwCWRD",
        "outputId": "2ee7d924-589b-4d46-ba84-559232fa5311"
      },
      "outputs": [
        {
          "data": {
            "text/html": [
              "\n",
              "  <div id=\"df-17eaeeae-a956-4803-b784-8e9c37e2bb96\" class=\"colab-df-container\">\n",
              "    <div>\n",
              "<style scoped>\n",
              "    .dataframe tbody tr th:only-of-type {\n",
              "        vertical-align: middle;\n",
              "    }\n",
              "\n",
              "    .dataframe tbody tr th {\n",
              "        vertical-align: top;\n",
              "    }\n",
              "\n",
              "    .dataframe thead th {\n",
              "        text-align: right;\n",
              "    }\n",
              "</style>\n",
              "<table border=\"1\" class=\"dataframe\">\n",
              "  <thead>\n",
              "    <tr style=\"text-align: right;\">\n",
              "      <th></th>\n",
              "      <th>ID</th>\n",
              "      <th>noisy_text</th>\n",
              "      <th>corrected_text</th>\n",
              "      <th>CER</th>\n",
              "      <th>WER</th>\n",
              "      <th>LLM Corrected Text</th>\n",
              "      <th>CER</th>\n",
              "      <th>WER</th>\n",
              "    </tr>\n",
              "  </thead>\n",
              "  <tbody>\n",
              "    <tr>\n",
              "      <th>0</th>\n",
              "      <td>823a028f-0f0b-4bac-8f51-7e4b7b7c8bfb</td>\n",
              "      <td>24 heures de publicité Tee-shirt, chapeaux, p...</td>\n",
              "      <td>24 Heures DE PUBLICITE\\n\\nTee-shirt, chapeaux,...</td>\n",
              "      <td>0.040552</td>\n",
              "      <td>0.121693</td>\n",
              "      <td>24 heures de publicité Tee-shirt, chapeaux, p...</td>\n",
              "      <td>0.043141</td>\n",
              "      <td>0.121693</td>\n",
              "    </tr>\n",
              "    <tr>\n",
              "      <th>1</th>\n",
              "      <td>b44f9709-1f8f-4672-a7e2-1e2b3b486612</td>\n",
              "      <td>1923-1973 : les 24 Heures ont cinquante ans D...</td>\n",
              "      <td>Ces progrès techniques qui ont révolutionné la...</td>\n",
              "      <td>0.122731</td>\n",
              "      <td>0.238806</td>\n",
              "      <td>1923-1973 : les 24 Heures ont cinquante ans D...</td>\n",
              "      <td>0.113008</td>\n",
              "      <td>0.215174</td>\n",
              "    </tr>\n",
              "    <tr>\n",
              "      <th>2</th>\n",
              "      <td>f00f7fd3-8df7-464e-b5d9-5b71b235a0f2</td>\n",
              "      <td>Les 24 Heures dans le rétro En attendant la 6...</td>\n",
              "      <td>1924-1927 : La naissance d’une course de légen...</td>\n",
              "      <td>0.068424</td>\n",
              "      <td>0.159841</td>\n",
              "      <td>Les 24 Heures dans le rétro En attendant la 6...</td>\n",
              "      <td>0.053171</td>\n",
              "      <td>0.117569</td>\n",
              "    </tr>\n",
              "    <tr>\n",
              "      <th>3</th>\n",
              "      <td>23d19e1f-9ed4-4e5e-b95f-277ca84ce278</td>\n",
              "      <td>Circuit permanent de la Sarthe Grand prix d'e...</td>\n",
              "      <td>Fin à 17 heures et non à 16 heures à cause du ...</td>\n",
              "      <td>0.233514</td>\n",
              "      <td>0.405530</td>\n",
              "      <td>Circuit permanent de la Sarthe Grand prix d'e...</td>\n",
              "      <td>0.221102</td>\n",
              "      <td>0.382488</td>\n",
              "    </tr>\n",
              "    <tr>\n",
              "      <th>4</th>\n",
              "      <td>a25904e3-f183-4f53-95ee-ed46649c1085</td>\n",
              "      <td>LE BUDGET DE LA DUCKAMS : à peine le salaire ...</td>\n",
              "      <td>« Il faudrait que les règlements soient imprim...</td>\n",
              "      <td>0.063338</td>\n",
              "      <td>0.167169</td>\n",
              "      <td>LE BUDGET DE LA DUCATS : à peine le salaire d...</td>\n",
              "      <td>0.048187</td>\n",
              "      <td>0.137048</td>\n",
              "    </tr>\n",
              "    <tr>\n",
              "      <th>5</th>\n",
              "      <td>2bcba6a9-a178-4d77-8cc2-6d0de775a007</td>\n",
              "      <td>LES « 24 HEURES » ET L'ÉVOLUTION TECHNIQUE Te...</td>\n",
              "      <td>LES « 24 Heures » ET L’ÉVOLUTION TECHNIQUE\\n\\n...</td>\n",
              "      <td>0.030472</td>\n",
              "      <td>0.076233</td>\n",
              "      <td>LES « 24 HEURES » ET L'ÉVOLUTION TECHNIQUE Te...</td>\n",
              "      <td>0.022092</td>\n",
              "      <td>0.065770</td>\n",
              "    </tr>\n",
              "    <tr>\n",
              "      <th>6</th>\n",
              "      <td>6ee4c064-8bf8-443d-b622-a06152693b73</td>\n",
              "      <td>LE GRAND PRIX D'ENDURANCE DE L'A. C. O. (COUP...</td>\n",
              "      <td>Feu d’artifice, ciné, jazz-band, buffet… La fê...</td>\n",
              "      <td>0.113868</td>\n",
              "      <td>0.304116</td>\n",
              "      <td>LE GRAND PRIX D'ENDURANCE DE L'A. C. O. (COUP...</td>\n",
              "      <td>0.088941</td>\n",
              "      <td>0.296494</td>\n",
              "    </tr>\n",
              "    <tr>\n",
              "      <th>7</th>\n",
              "      <td>cae258ff-8407-4716-a7f1-86bf4bb77895</td>\n",
              "      <td>LE GRAND PRIX D'ENDURANCE D'AUTOMOBILE Coupe ...</td>\n",
              "      <td>Le drapeau s’abaisse sous une averse de grêle\\...</td>\n",
              "      <td>0.137871</td>\n",
              "      <td>0.374165</td>\n",
              "      <td>LE GRAND PRIX D'ENDURANCE D'AUTOMOBILE Coupe ...</td>\n",
              "      <td>0.116579</td>\n",
              "      <td>0.345212</td>\n",
              "    </tr>\n",
              "    <tr>\n",
              "      <th>8</th>\n",
              "      <td>94dd5300-f5a9-4540-9ba1-446295bbaecd</td>\n",
              "      <td>Voilà 80 ans, naissaient les 24 Heures 70º éd...</td>\n",
              "      <td>Une course pensée dès le début pour « accroîtr...</td>\n",
              "      <td>0.129932</td>\n",
              "      <td>0.220482</td>\n",
              "      <td>Voilà 80 ans, naissaient les 24 Heures 70º éd...</td>\n",
              "      <td>0.106417</td>\n",
              "      <td>0.167470</td>\n",
              "    </tr>\n",
              "    <tr>\n",
              "      <th>9</th>\n",
              "      <td>22cf4179-1599-4a2f-b2a1-7e4352f5b576</td>\n",
              "      <td>LE MYSTERE D'UNE DISPARITION M. Quemeneur a-t...</td>\n",
              "      <td>Le mystère d’une disparition : M. Quéméneur a-...</td>\n",
              "      <td>0.070037</td>\n",
              "      <td>0.201192</td>\n",
              "      <td>LE MYSTÈRE D'UNE DISPARITION M. Que meneur a-...</td>\n",
              "      <td>0.062015</td>\n",
              "      <td>0.200447</td>\n",
              "    </tr>\n",
              "    <tr>\n",
              "      <th>10</th>\n",
              "      <td>8c14b59e-9067-4889-929f-07fde68d9526+7b92da7a-...</td>\n",
              "      <td>M, Quemeneur ne serait allé ni à Paris ni au ...</td>\n",
              "      <td>Pourquoi M. Seznec est convoqué à Paris\\n\\nM. ...</td>\n",
              "      <td>0.102156</td>\n",
              "      <td>0.216242</td>\n",
              "      <td>M, Que meneur ne serait allé ni à Paris ni au...</td>\n",
              "      <td>0.090186</td>\n",
              "      <td>0.210476</td>\n",
              "    </tr>\n",
              "    <tr>\n",
              "      <th>11</th>\n",
              "      <td>467f3982-486d-423b-8b9b-09e180fecdc2+caa446e8-...</td>\n",
              "      <td>Un conseiller général du Finistère aurait été...</td>\n",
              "      <td>Un conseiller général du Finistère aurait été ...</td>\n",
              "      <td>0.061829</td>\n",
              "      <td>0.210352</td>\n",
              "      <td>Un conseiller général du Finistère aurait été...</td>\n",
              "      <td>0.058497</td>\n",
              "      <td>0.208150</td>\n",
              "    </tr>\n",
              "  </tbody>\n",
              "</table>\n",
              "</div>\n",
              "    <div class=\"colab-df-buttons\">\n",
              "\n",
              "  <div class=\"colab-df-container\">\n",
              "    <button class=\"colab-df-convert\" onclick=\"convertToInteractive('df-17eaeeae-a956-4803-b784-8e9c37e2bb96')\"\n",
              "            title=\"Convert this dataframe to an interactive table.\"\n",
              "            style=\"display:none;\">\n",
              "\n",
              "  <svg xmlns=\"http://www.w3.org/2000/svg\" height=\"24px\" viewBox=\"0 -960 960 960\">\n",
              "    <path d=\"M120-120v-720h720v720H120Zm60-500h600v-160H180v160Zm220 220h160v-160H400v160Zm0 220h160v-160H400v160ZM180-400h160v-160H180v160Zm440 0h160v-160H620v160ZM180-180h160v-160H180v160Zm440 0h160v-160H620v160Z\"/>\n",
              "  </svg>\n",
              "    </button>\n",
              "\n",
              "  <style>\n",
              "    .colab-df-container {\n",
              "      display:flex;\n",
              "      gap: 12px;\n",
              "    }\n",
              "\n",
              "    .colab-df-convert {\n",
              "      background-color: #E8F0FE;\n",
              "      border: none;\n",
              "      border-radius: 50%;\n",
              "      cursor: pointer;\n",
              "      display: none;\n",
              "      fill: #1967D2;\n",
              "      height: 32px;\n",
              "      padding: 0 0 0 0;\n",
              "      width: 32px;\n",
              "    }\n",
              "\n",
              "    .colab-df-convert:hover {\n",
              "      background-color: #E2EBFA;\n",
              "      box-shadow: 0px 1px 2px rgba(60, 64, 67, 0.3), 0px 1px 3px 1px rgba(60, 64, 67, 0.15);\n",
              "      fill: #174EA6;\n",
              "    }\n",
              "\n",
              "    .colab-df-buttons div {\n",
              "      margin-bottom: 4px;\n",
              "    }\n",
              "\n",
              "    [theme=dark] .colab-df-convert {\n",
              "      background-color: #3B4455;\n",
              "      fill: #D2E3FC;\n",
              "    }\n",
              "\n",
              "    [theme=dark] .colab-df-convert:hover {\n",
              "      background-color: #434B5C;\n",
              "      box-shadow: 0px 1px 3px 1px rgba(0, 0, 0, 0.15);\n",
              "      filter: drop-shadow(0px 1px 2px rgba(0, 0, 0, 0.3));\n",
              "      fill: #FFFFFF;\n",
              "    }\n",
              "  </style>\n",
              "\n",
              "    <script>\n",
              "      const buttonEl =\n",
              "        document.querySelector('#df-17eaeeae-a956-4803-b784-8e9c37e2bb96 button.colab-df-convert');\n",
              "      buttonEl.style.display =\n",
              "        google.colab.kernel.accessAllowed ? 'block' : 'none';\n",
              "\n",
              "      async function convertToInteractive(key) {\n",
              "        const element = document.querySelector('#df-17eaeeae-a956-4803-b784-8e9c37e2bb96');\n",
              "        const dataTable =\n",
              "          await google.colab.kernel.invokeFunction('convertToInteractive',\n",
              "                                                    [key], {});\n",
              "        if (!dataTable) return;\n",
              "\n",
              "        const docLinkHtml = 'Like what you see? Visit the ' +\n",
              "          '<a target=\"_blank\" href=https://colab.research.google.com/notebooks/data_table.ipynb>data table notebook</a>'\n",
              "          + ' to learn more about interactive tables.';\n",
              "        element.innerHTML = '';\n",
              "        dataTable['output_type'] = 'display_data';\n",
              "        await google.colab.output.renderOutput(dataTable, element);\n",
              "        const docLink = document.createElement('div');\n",
              "        docLink.innerHTML = docLinkHtml;\n",
              "        element.appendChild(docLink);\n",
              "      }\n",
              "    </script>\n",
              "  </div>\n",
              "\n",
              "\n",
              "<div id=\"df-69481b2c-af29-4634-95be-5ffd63c2f289\">\n",
              "  <button class=\"colab-df-quickchart\" onclick=\"quickchart('df-69481b2c-af29-4634-95be-5ffd63c2f289')\"\n",
              "            title=\"Suggest charts\"\n",
              "            style=\"display:none;\">\n",
              "\n",
              "<svg xmlns=\"http://www.w3.org/2000/svg\" height=\"24px\"viewBox=\"0 0 24 24\"\n",
              "     width=\"24px\">\n",
              "    <g>\n",
              "        <path d=\"M19 3H5c-1.1 0-2 .9-2 2v14c0 1.1.9 2 2 2h14c1.1 0 2-.9 2-2V5c0-1.1-.9-2-2-2zM9 17H7v-7h2v7zm4 0h-2V7h2v10zm4 0h-2v-4h2v4z\"/>\n",
              "    </g>\n",
              "</svg>\n",
              "  </button>\n",
              "\n",
              "<style>\n",
              "  .colab-df-quickchart {\n",
              "      --bg-color: #E8F0FE;\n",
              "      --fill-color: #1967D2;\n",
              "      --hover-bg-color: #E2EBFA;\n",
              "      --hover-fill-color: #174EA6;\n",
              "      --disabled-fill-color: #AAA;\n",
              "      --disabled-bg-color: #DDD;\n",
              "  }\n",
              "\n",
              "  [theme=dark] .colab-df-quickchart {\n",
              "      --bg-color: #3B4455;\n",
              "      --fill-color: #D2E3FC;\n",
              "      --hover-bg-color: #434B5C;\n",
              "      --hover-fill-color: #FFFFFF;\n",
              "      --disabled-bg-color: #3B4455;\n",
              "      --disabled-fill-color: #666;\n",
              "  }\n",
              "\n",
              "  .colab-df-quickchart {\n",
              "    background-color: var(--bg-color);\n",
              "    border: none;\n",
              "    border-radius: 50%;\n",
              "    cursor: pointer;\n",
              "    display: none;\n",
              "    fill: var(--fill-color);\n",
              "    height: 32px;\n",
              "    padding: 0;\n",
              "    width: 32px;\n",
              "  }\n",
              "\n",
              "  .colab-df-quickchart:hover {\n",
              "    background-color: var(--hover-bg-color);\n",
              "    box-shadow: 0 1px 2px rgba(60, 64, 67, 0.3), 0 1px 3px 1px rgba(60, 64, 67, 0.15);\n",
              "    fill: var(--button-hover-fill-color);\n",
              "  }\n",
              "\n",
              "  .colab-df-quickchart-complete:disabled,\n",
              "  .colab-df-quickchart-complete:disabled:hover {\n",
              "    background-color: var(--disabled-bg-color);\n",
              "    fill: var(--disabled-fill-color);\n",
              "    box-shadow: none;\n",
              "  }\n",
              "\n",
              "  .colab-df-spinner {\n",
              "    border: 2px solid var(--fill-color);\n",
              "    border-color: transparent;\n",
              "    border-bottom-color: var(--fill-color);\n",
              "    animation:\n",
              "      spin 1s steps(1) infinite;\n",
              "  }\n",
              "\n",
              "  @keyframes spin {\n",
              "    0% {\n",
              "      border-color: transparent;\n",
              "      border-bottom-color: var(--fill-color);\n",
              "      border-left-color: var(--fill-color);\n",
              "    }\n",
              "    20% {\n",
              "      border-color: transparent;\n",
              "      border-left-color: var(--fill-color);\n",
              "      border-top-color: var(--fill-color);\n",
              "    }\n",
              "    30% {\n",
              "      border-color: transparent;\n",
              "      border-left-color: var(--fill-color);\n",
              "      border-top-color: var(--fill-color);\n",
              "      border-right-color: var(--fill-color);\n",
              "    }\n",
              "    40% {\n",
              "      border-color: transparent;\n",
              "      border-right-color: var(--fill-color);\n",
              "      border-top-color: var(--fill-color);\n",
              "    }\n",
              "    60% {\n",
              "      border-color: transparent;\n",
              "      border-right-color: var(--fill-color);\n",
              "    }\n",
              "    80% {\n",
              "      border-color: transparent;\n",
              "      border-right-color: var(--fill-color);\n",
              "      border-bottom-color: var(--fill-color);\n",
              "    }\n",
              "    90% {\n",
              "      border-color: transparent;\n",
              "      border-bottom-color: var(--fill-color);\n",
              "    }\n",
              "  }\n",
              "</style>\n",
              "\n",
              "  <script>\n",
              "    async function quickchart(key) {\n",
              "      const quickchartButtonEl =\n",
              "        document.querySelector('#' + key + ' button');\n",
              "      quickchartButtonEl.disabled = true;  // To prevent multiple clicks.\n",
              "      quickchartButtonEl.classList.add('colab-df-spinner');\n",
              "      try {\n",
              "        const charts = await google.colab.kernel.invokeFunction(\n",
              "            'suggestCharts', [key], {});\n",
              "      } catch (error) {\n",
              "        console.error('Error during call to suggestCharts:', error);\n",
              "      }\n",
              "      quickchartButtonEl.classList.remove('colab-df-spinner');\n",
              "      quickchartButtonEl.classList.add('colab-df-quickchart-complete');\n",
              "    }\n",
              "    (() => {\n",
              "      let quickchartButtonEl =\n",
              "        document.querySelector('#df-69481b2c-af29-4634-95be-5ffd63c2f289 button');\n",
              "      quickchartButtonEl.style.display =\n",
              "        google.colab.kernel.accessAllowed ? 'block' : 'none';\n",
              "    })();\n",
              "  </script>\n",
              "</div>\n",
              "    </div>\n",
              "  </div>\n"
            ],
            "text/plain": [
              "                                                   ID  \\\n",
              "0                823a028f-0f0b-4bac-8f51-7e4b7b7c8bfb   \n",
              "1                b44f9709-1f8f-4672-a7e2-1e2b3b486612   \n",
              "2                f00f7fd3-8df7-464e-b5d9-5b71b235a0f2   \n",
              "3                23d19e1f-9ed4-4e5e-b95f-277ca84ce278   \n",
              "4                a25904e3-f183-4f53-95ee-ed46649c1085   \n",
              "5                2bcba6a9-a178-4d77-8cc2-6d0de775a007   \n",
              "6                6ee4c064-8bf8-443d-b622-a06152693b73   \n",
              "7                cae258ff-8407-4716-a7f1-86bf4bb77895   \n",
              "8                94dd5300-f5a9-4540-9ba1-446295bbaecd   \n",
              "9                22cf4179-1599-4a2f-b2a1-7e4352f5b576   \n",
              "10  8c14b59e-9067-4889-929f-07fde68d9526+7b92da7a-...   \n",
              "11  467f3982-486d-423b-8b9b-09e180fecdc2+caa446e8-...   \n",
              "\n",
              "                                           noisy_text  \\\n",
              "0    24 heures de publicité Tee-shirt, chapeaux, p...   \n",
              "1    1923-1973 : les 24 Heures ont cinquante ans D...   \n",
              "2    Les 24 Heures dans le rétro En attendant la 6...   \n",
              "3    Circuit permanent de la Sarthe Grand prix d'e...   \n",
              "4    LE BUDGET DE LA DUCKAMS : à peine le salaire ...   \n",
              "5    LES « 24 HEURES » ET L'ÉVOLUTION TECHNIQUE Te...   \n",
              "6    LE GRAND PRIX D'ENDURANCE DE L'A. C. O. (COUP...   \n",
              "7    LE GRAND PRIX D'ENDURANCE D'AUTOMOBILE Coupe ...   \n",
              "8    Voilà 80 ans, naissaient les 24 Heures 70º éd...   \n",
              "9    LE MYSTERE D'UNE DISPARITION M. Quemeneur a-t...   \n",
              "10   M, Quemeneur ne serait allé ni à Paris ni au ...   \n",
              "11   Un conseiller général du Finistère aurait été...   \n",
              "\n",
              "                                       corrected_text       CER       WER  \\\n",
              "0   24 Heures DE PUBLICITE\\n\\nTee-shirt, chapeaux,...  0.040552  0.121693   \n",
              "1   Ces progrès techniques qui ont révolutionné la...  0.122731  0.238806   \n",
              "2   1924-1927 : La naissance d’une course de légen...  0.068424  0.159841   \n",
              "3   Fin à 17 heures et non à 16 heures à cause du ...  0.233514  0.405530   \n",
              "4   « Il faudrait que les règlements soient imprim...  0.063338  0.167169   \n",
              "5   LES « 24 Heures » ET L’ÉVOLUTION TECHNIQUE\\n\\n...  0.030472  0.076233   \n",
              "6   Feu d’artifice, ciné, jazz-band, buffet… La fê...  0.113868  0.304116   \n",
              "7   Le drapeau s’abaisse sous une averse de grêle\\...  0.137871  0.374165   \n",
              "8   Une course pensée dès le début pour « accroîtr...  0.129932  0.220482   \n",
              "9   Le mystère d’une disparition : M. Quéméneur a-...  0.070037  0.201192   \n",
              "10  Pourquoi M. Seznec est convoqué à Paris\\n\\nM. ...  0.102156  0.216242   \n",
              "11  Un conseiller général du Finistère aurait été ...  0.061829  0.210352   \n",
              "\n",
              "                                   LLM Corrected Text       CER       WER  \n",
              "0    24 heures de publicité Tee-shirt, chapeaux, p...  0.043141  0.121693  \n",
              "1    1923-1973 : les 24 Heures ont cinquante ans D...  0.113008  0.215174  \n",
              "2    Les 24 Heures dans le rétro En attendant la 6...  0.053171  0.117569  \n",
              "3    Circuit permanent de la Sarthe Grand prix d'e...  0.221102  0.382488  \n",
              "4    LE BUDGET DE LA DUCATS : à peine le salaire d...  0.048187  0.137048  \n",
              "5    LES « 24 HEURES » ET L'ÉVOLUTION TECHNIQUE Te...  0.022092  0.065770  \n",
              "6    LE GRAND PRIX D'ENDURANCE DE L'A. C. O. (COUP...  0.088941  0.296494  \n",
              "7    LE GRAND PRIX D'ENDURANCE D'AUTOMOBILE Coupe ...  0.116579  0.345212  \n",
              "8    Voilà 80 ans, naissaient les 24 Heures 70º éd...  0.106417  0.167470  \n",
              "9    LE MYSTÈRE D'UNE DISPARITION M. Que meneur a-...  0.062015  0.200447  \n",
              "10   M, Que meneur ne serait allé ni à Paris ni au...  0.090186  0.210476  \n",
              "11   Un conseiller général du Finistère aurait été...  0.058497  0.208150  "
            ]
          },
          "execution_count": 48,
          "metadata": {},
          "output_type": "execute_result"
        },
        {
          "name": "stderr",
          "output_type": "stream",
          "text": [
            "WARNING:root:Quickchart encountered unexpected dtypes in columns: \"(['CER', 'WER', 'CER', 'WER'],)\"\n"
          ]
        }
      ],
      "source": [
        "data"
      ]
    },
    {
      "cell_type": "code",
      "execution_count": 49,
      "metadata": {
        "colab": {
          "base_uri": "https://localhost:8080/"
        },
        "id": "RDngFDEnC7dq",
        "outputId": "b64affbd-82d6-47a8-f51d-b236285bc89a"
      },
      "outputs": [
        {
          "name": "stdout",
          "output_type": "stream",
          "text": [
            "Mean CER :  0.09789382298908526\n",
            "Mean WER :  0.22465182003610307\n"
          ]
        }
      ],
      "source": [
        "mean_cer = np.mean(list_cer)\n",
        "mean_wer = np.mean(list_wer)\n",
        "\n",
        "print(\"Mean CER : \", mean_cer)\n",
        "print(\"Mean WER : \", mean_wer)"
      ]
    },
    {
      "cell_type": "code",
      "execution_count": 2,
      "metadata": {
        "colab": {
          "base_uri": "https://localhost:8080/"
        },
        "id": "EtY1C5ioRE6z",
        "outputId": "d2a24852-3f52-45ff-f2e0-89aa27792bd8"
      },
      "outputs": [
        {
          "name": "stdout",
          "output_type": "stream",
          "text": [
            "\n",
            "    _|    _|  _|    _|    _|_|_|    _|_|_|  _|_|_|  _|      _|    _|_|_|      _|_|_|_|    _|_|      _|_|_|  _|_|_|_|\n",
            "    _|    _|  _|    _|  _|        _|          _|    _|_|    _|  _|            _|        _|    _|  _|        _|\n",
            "    _|_|_|_|  _|    _|  _|  _|_|  _|  _|_|    _|    _|  _|  _|  _|  _|_|      _|_|_|    _|_|_|_|  _|        _|_|_|\n",
            "    _|    _|  _|    _|  _|    _|  _|    _|    _|    _|    _|_|  _|    _|      _|        _|    _|  _|        _|\n",
            "    _|    _|    _|_|      _|_|_|    _|_|_|  _|_|_|  _|      _|    _|_|_|      _|        _|    _|    _|_|_|  _|_|_|_|\n",
            "\n",
            "    To login, `huggingface_hub` requires a token generated from https://huggingface.co/settings/tokens .\n",
            "Token: \n",
            "Add token as git credential? (Y/n) n\n",
            "Token is valid (permission: read).\n",
            "Your token has been saved to /root/.cache/huggingface/token\n",
            "Login successful\n"
          ]
        }
      ],
      "source": [
        "!huggingface-cli login"
      ]
    },
    {
      "cell_type": "code",
      "execution_count": null,
      "metadata": {
        "colab": {
          "base_uri": "https://localhost:8080/",
          "height": 825
        },
        "id": "60JH2lQuGkYT",
        "outputId": "04d62d61-d93b-48f8-e711-6493b34650d6"
      },
      "outputs": [],
      "source": [
        "from transformers import AutoTokenizer\n",
        "import transformers\n",
        "import torch\n",
        "\n",
        "model = \"meta-llama/Llama-2-7b-chat-hf\"\n",
        "\n",
        "tokenizer = AutoTokenizer.from_pretrained(model)\n",
        "pipeline = transformers.pipeline(\n",
        "    \"text-generation\",\n",
        "    model=model,\n",
        "    torch_dtype=torch.float16,\n",
        "    device_map=\"auto\",\n",
        ")\n",
        "\n",
        "sequences = pipeline(\n",
        "    'I liked \"Breaking Bad\" and \"Band of Brothers\". Do you have any recommendations of other shows I might like?\\n',\n",
        "    do_sample=True,\n",
        "    top_k=10,\n",
        "    num_return_sequences=1,\n",
        "    eos_token_id=tokenizer.eos_token_id,\n",
        "    max_length=200,\n",
        ")\n",
        "for seq in sequences:\n",
        "    print(f\"Result: {seq['generated_text']}\")\n"
      ]
    },
    {
      "cell_type": "code",
      "execution_count": null,
      "metadata": {
        "id": "yQ_PGi4uQiTa"
      },
      "outputs": [],
      "source": [
        "request = 'Corrigez cet article : ' + data['noisy_text'][0]\n",
        "sequences = pipeline(\n",
        "    request,\n",
        "    do_sample=True,\n",
        "    top_k=10,\n",
        "    num_return_sequences=1,\n",
        "    eos_token_id=tokenizer.eos_token_id\n",
        ")\n",
        "for seq in sequences:\n",
        "    print(f\"Result: {seq['generated_text']}\")"
      ]
    },
    {
      "cell_type": "code",
      "execution_count": null,
      "metadata": {
        "colab": {
          "base_uri": "https://localhost:8080/",
          "height": 610
        },
        "id": "TFljH1Q0QxCK",
        "outputId": "1662cc36-987d-476d-ea73-0fdb08696bfa"
      },
      "outputs": [],
      "source": [
        "!pip install --upgrade transformers"
      ]
    },
    {
      "cell_type": "code",
      "execution_count": null,
      "metadata": {
        "colab": {
          "base_uri": "https://localhost:8080/"
        },
        "id": "Y5jlpNPpXLA5",
        "outputId": "830ca9f3-8ad1-424c-e77c-4b60a24777a0"
      },
      "outputs": [],
      "source": [
        "!pip install bitsandbytes\n"
      ]
    },
    {
      "cell_type": "code",
      "execution_count": null,
      "metadata": {
        "colab": {
          "base_uri": "https://localhost:8080/",
          "height": 442
        },
        "id": "OqI7MCOSQInu",
        "outputId": "b5a2b07f-a392-431b-e7e9-3bb8d69b524d"
      },
      "outputs": [],
      "source": [
        "from transformers import AutoModelForCausalLM, AutoTokenizer\n",
        "\n",
        "model_id = \"mistralai/Mixtral-8x7B-v0.1\"\n",
        "tokenizer = AutoTokenizer.from_pretrained(model_id)\n",
        "\n",
        "model = AutoModelForCausalLM.from_pretrained(model_id, load_in_4bit=True)\n",
        "\n",
        "text = \"Corrigez ce texte : \\n\" + data['noisy_text'][0]\n",
        "inputs = tokenizer(text, return_tensors=\"pt\").to(0)\n",
        "\n",
        "outputs = model.generate(**inputs, max_new_tokens=20)\n",
        "print(tokenizer.decode(outputs[0], skip_special_tokens=True))\n"
      ]
    },
    {
      "cell_type": "code",
      "execution_count": 1,
      "metadata": {
        "id": "FEZHBtrAQLdU"
      },
      "outputs": [],
      "source": [
        "corrected_text = \"24 Heures de publicité\\n\\nTee-shirts, chapeaux, posters... Depuis longtemps, les familiers du circuit se sont habitués au déferlement coloré de la publicité et des étals qui font autant partie du spectacle que les kiosques à frites, le village, les concerts et les voitures. Pourtant, la publicité a mis du temps à coloniser les 24 Heures.\\n\\nDes débuts modestes\\n\\nDans les années vingt, certes, on utilise déjà les palissades pour vanter les marques : chronomètres, huiles, graisse, automobiles, pneumatiques... Les écuries profitent de leurs résultats pour se faire mousser. En 1924, Rolland-Pillain, écurie tourangelle qui termine 6e et 9e, n'hésite pas à tirer une affiche au slogan coup de poing : « Les triomphatrices des 24 Heures ! ». Mais à cette époque et jusqu'aux années 1950, les voitures ne portent que les couleurs des pays.\\n\\nL'explosion publicitaire\\n\\nC'est à la fin des années 1960 et durant les années 1970 que les bolides deviennent, télévision oblige, de véritables vitrines publicitaires. Les années 1980-1990 ont marqué un nouveau palier dans l'instrumentalisation publicitaire des 24 Heures.\\n\\nUn spectacle multicolore\\n\\nMais, tant que la course continue, on ne peut qu'apprécier le camaïeu des couleurs qui fusent à 300 à l'heure...\""
      ]
    },
    {
      "cell_type": "code",
      "execution_count": 9,
      "metadata": {
        "id": "_-_r-1fBVdiS"
      },
      "outputs": [],
      "source": [
        "from jiwer import wer, cer\n",
        "\n",
        "cer_value = cer(\n",
        "        data['corrected_text'][0],\n",
        "        corrected_text\n",
        ")\n",
        "\n",
        "\n",
        "wer_value = wer(\n",
        "        data['corrected_text'][0],\n",
        "        corrected_text\n",
        ")"
      ]
    },
    {
      "cell_type": "code",
      "execution_count": 10,
      "metadata": {
        "colab": {
          "base_uri": "https://localhost:8080/"
        },
        "id": "ViQLWaBxVlHf",
        "outputId": "0aea8ba9-acd7-4d04-92ba-430e0c61b141"
      },
      "outputs": [
        {
          "data": {
            "text/plain": [
              "(0.11475409836065574, 0.18518518518518517)"
            ]
          },
          "execution_count": 10,
          "metadata": {},
          "output_type": "execute_result"
        }
      ],
      "source": [
        "cer_value, wer_value"
      ]
    },
    {
      "cell_type": "code",
      "execution_count": null,
      "metadata": {
        "id": "1eIe5ktPV44R"
      },
      "outputs": [],
      "source": []
    }
  ],
  "metadata": {
    "accelerator": "GPU",
    "colab": {
      "gpuType": "T4",
      "provenance": []
    },
    "kernelspec": {
      "display_name": "Python 3",
      "name": "python3"
    },
    "language_info": {
      "name": "python"
    }
  },
  "nbformat": 4,
  "nbformat_minor": 0
}
